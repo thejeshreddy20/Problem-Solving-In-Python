{
 "cells": [
  {
   "cell_type": "markdown",
   "metadata": {},
   "source": [
    "### Day Objectives\n",
    "- Python Data Structures\n",
    "- Lists\n",
    "- Tuples\n",
    "- Dictionaries\n",
    "- Basic Problem set on Data Structures\n",
    "- Advanced Problem Set\n",
    "- Packages and Modules in Python\n"
   ]
  },
  {
   "cell_type": "markdown",
   "metadata": {},
   "source": [
    "### Data Structures"
   ]
  },
  {
   "cell_type": "code",
   "execution_count": 33,
   "metadata": {},
   "outputs": [
    {
     "data": {
      "text/plain": [
       "456"
      ]
     },
     "execution_count": 33,
     "metadata": {},
     "output_type": "execute_result"
    }
   ],
   "source": [
    "li=[123,978,654]\n",
    "li #Access the entire list\n",
    "li[1] # Access an element in a list\n",
    "li[1:]# Access  all elements from second  element in list\n",
    "li[::-1] # Reversing list elements and re\n",
    "li=li[::-1]\n",
    "li\n",
    "li[::2] #  accessing  even index elements\n",
    "li[1::2]\n",
    "\n",
    "#Lists can be accessed,manipulated in two\n",
    "      #Direct Referencing-[index]\n",
    "      #InDirect Referencing-through function \n",
    "li.append(345) # Addingan element to end \n",
    "li.insert(1,234) #adding element \n",
    "li.sort() #sort elements in ascending order \n",
    "li.pop() # remove last element\n",
    "li.pop(1) #Remove an element at particular element \n",
    "li2=[234,456,789]\n",
    "li.extend(li2) #Merge list 2 into list 1\n",
    "li\n",
    "\n",
    "sum(li) #Sum of all element in alist\n",
    "max(li) # maximum element in alist \n",
    "len(li) #Number of elements in alist\n",
    "\n",
    "\n",
    "       \n",
    "sum(li)/len(li) # Average of elements in a list\n",
    "\n",
    "# Average of all alternate elements\n",
    "sum(li[::2])/len(li[::2])\n",
    "\n",
    "# Average of all alternate elements in odd \n",
    "sum(li[1::2])//len(li[1::2])\n",
    "\n"
   ]
  },
  {
   "cell_type": "code",
   "execution_count": 59,
   "metadata": {},
   "outputs": [
    {
     "name": "stdout",
     "output_type": "stream",
     "text": [
      "3\n"
     ]
    }
   ],
   "source": [
    " # Function to identify the second largest element in a list\n",
    "li3=[2,3,4]\n",
    "def secondlargest(li3):\n",
    "    li3.sort()\n",
    "    print(li3[-2])\n",
    "secondlargest(li3)"
   ]
  },
  {
   "cell_type": "code",
   "execution_count": 58,
   "metadata": {},
   "outputs": [
    {
     "data": {
      "text/plain": [
       "234"
      ]
     },
     "execution_count": 58,
     "metadata": {},
     "output_type": "execute_result"
    }
   ],
   "source": [
    "# Function that returns the nth largest\n",
    "\n",
    "def genericLargest(li,n):\n",
    "    li.sort()\n",
    "    return li[-n]\n",
    "genericLargest(li,5)"
   ]
  },
  {
   "cell_type": "code",
   "execution_count": 65,
   "metadata": {},
   "outputs": [
    {
     "data": {
      "text/plain": [
       "2"
      ]
     },
     "execution_count": 65,
     "metadata": {},
     "output_type": "execute_result"
    }
   ],
   "source": [
    "#Function to search for data in alist\n",
    "#Search for the key in the list and return the index\n",
    "\n",
    "def linearSearch(li,key):\n",
    "    for index in range(0,len(li)):\n",
    "        if li[index]==key:\n",
    "            return index+1\n",
    "    return -1\n",
    "linearSearch(li,234)\n",
    "\n",
    "        \n",
    "    "
   ]
  },
  {
   "cell_type": "code",
   "execution_count": null,
   "metadata": {},
   "outputs": [],
   "source": []
  },
  {
   "cell_type": "code",
   "execution_count": 71,
   "metadata": {},
   "outputs": [
    {
     "data": {
      "text/plain": [
       "1"
      ]
     },
     "execution_count": 71,
     "metadata": {},
     "output_type": "execute_result"
    }
   ],
   "source": [
    "#function to count the occurances of a character in \"Python Programming\",m--> 2\n",
    "def countOccurances(s,c):\n",
    "    return s.count(c)\n",
    "countOccurances(\"python programming\",'t')"
   ]
  },
  {
   "cell_type": "code",
   "execution_count": null,
   "metadata": {},
   "outputs": [],
   "source": []
  }
 ],
 "metadata": {
  "kernelspec": {
   "display_name": "Python 3",
   "language": "python",
   "name": "python3"
  },
  "language_info": {
   "codemirror_mode": {
    "name": "ipython",
    "version": 3
   },
   "file_extension": ".py",
   "mimetype": "text/x-python",
   "name": "python",
   "nbconvert_exporter": "python",
   "pygments_lexer": "ipython3",
   "version": "3.7.3"
  }
 },
 "nbformat": 4,
 "nbformat_minor": 2
}
