{
 "cells": [
  {
   "cell_type": "markdown",
   "metadata": {},
   "source": [
    "### Problem 1"
   ]
  },
  {
   "cell_type": "code",
   "execution_count": 3,
   "metadata": {},
   "outputs": [
    {
     "name": "stdout",
     "output_type": "stream",
     "text": [
      "456fghjhjgA\n",
      "3 0\n"
     ]
    }
   ],
   "source": [
    "# Count Characters\n",
    "def countingofdigits(s):\n",
    "    count=0\n",
    "    for i in s:\n",
    "        if i.isdigit():\n",
    "            count+=1\n",
    "    return count\n",
    "def countofalpha(s):\n",
    "    count=0\n",
    "    for i in s:\n",
    "        if i.isalpha():\n",
    "            count+=1\n",
    "        return count\n",
    "s=input()\n",
    "print(countingofdigits(s),countofalpha(s))"
   ]
  },
  {
   "cell_type": "markdown",
   "metadata": {},
   "source": [
    "### Problem 2"
   ]
  },
  {
   "cell_type": "code",
   "execution_count": 4,
   "metadata": {},
   "outputs": [
    {
     "name": "stdout",
     "output_type": "stream",
     "text": [
      "5\n",
      "2\n",
      "50\n",
      "NO\n",
      "45\n",
      "NO\n"
     ]
    }
   ],
   "source": [
    "def factors(n):\n",
    "    count=0\n",
    "    for i in range(1,n):\n",
    "        if n%i==0:\n",
    "            if isprime(i):\n",
    "                count=count+1\n",
    "    return count\n",
    "def  isprime(n):\n",
    "    if n==1:\n",
    "        return False\n",
    "    for i in range(2,n):\n",
    "        if n%i==0:\n",
    "            return False\n",
    "    return True\n",
    "def noofprimefactors(n):\n",
    "    count=0\n",
    "    for i in range(1,n):\n",
    "        if n%i==0:\n",
    "            if isprime(i):\n",
    "                count+=1\n",
    "    return count\n",
    "p=int(input())\n",
    "q=int(input())\n",
    "for i in range(0,q):\n",
    "    a=int(input())\n",
    "    if noofprimefactors(a)==p:\n",
    "        print(\"YES\")\n",
    "    else:\n",
    "        print(\"NO\")"
   ]
  },
  {
   "cell_type": "markdown",
   "metadata": {},
   "source": [
    " ### Problem 3"
   ]
  },
  {
   "cell_type": "code",
   "execution_count": 5,
   "metadata": {},
   "outputs": [
    {
     "data": {
      "text/plain": [
       "6"
      ]
     },
     "execution_count": 5,
     "metadata": {},
     "output_type": "execute_result"
    }
   ],
   "source": [
    "# Highest Remainder\n",
    "\n",
    "def remainder(n):\n",
    "    ls=[]\n",
    "    res=[]\n",
    "    for i in range(n,1,-1):\n",
    "        a=n%i\n",
    "        ls.append(a)\n",
    "        res.append(i)\n",
    "    return res[max(ls)]\n",
    "remainder(10)"
   ]
  },
  {
   "cell_type": "markdown",
   "metadata": {},
   "source": [
    "### Problem 4"
   ]
  },
  {
   "cell_type": "code",
   "execution_count": 8,
   "metadata": {},
   "outputs": [
    {
     "name": "stdout",
     "output_type": "stream",
     "text": [
      "6\n"
     ]
    },
    {
     "data": {
      "text/plain": [
       "4"
      ]
     },
     "execution_count": 8,
     "metadata": {},
     "output_type": "execute_result"
    }
   ],
   "source": [
    "n=int(input())\n",
    "\n",
    "def findthemaxvalue(n):\n",
    "    a=[]\n",
    "    a1=[]\n",
    "    for i in range(n,1,-1):\n",
    "        s=n%i\n",
    "        a.append(s)\n",
    "        a1.append(i)\n",
    "        \n",
    "    return(a1[max(a)])\n",
    "\n",
    "findthemaxvalue(n)\n",
    "\n",
    "        "
   ]
  },
  {
   "cell_type": "code",
   "execution_count": null,
   "metadata": {},
   "outputs": [],
   "source": []
  },
  {
   "cell_type": "code",
   "execution_count": null,
   "metadata": {},
   "outputs": [],
   "source": []
  }
 ],
 "metadata": {
  "kernelspec": {
   "display_name": "Python 3",
   "language": "python",
   "name": "python3"
  },
  "language_info": {
   "codemirror_mode": {
    "name": "ipython",
    "version": 3
   },
   "file_extension": ".py",
   "mimetype": "text/x-python",
   "name": "python",
   "nbconvert_exporter": "python",
   "pygments_lexer": "ipython3",
   "version": "3.7.3"
  }
 },
 "nbformat": 4,
 "nbformat_minor": 2
}
