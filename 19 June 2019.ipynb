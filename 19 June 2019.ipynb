{
 "cells": [
  {
   "cell_type": "markdown",
   "metadata": {},
   "source": [
    "### Two String"
   ]
  },
  {
   "cell_type": "code",
   "execution_count": 2,
   "metadata": {},
   "outputs": [
    {
     "name": "stdout",
     "output_type": "stream",
     "text": [
      "2\n",
      "thej trej\n",
      "NO\n",
      "thej thej\n",
      "YES\n"
     ]
    }
   ],
   "source": [
    "def twoStrings(n):\n",
    "    for i in range(1,n+1):\n",
    "        s=input()\n",
    "        s=s.split()\n",
    "        s1=s[0]\n",
    "        s2=s[1]\n",
    "        if(sorted(s1)==sorted(s2)):\n",
    "            print(\"YES\")\n",
    "        else:\n",
    "            print(\"NO\")\n",
    "n=int(input())\n",
    "twoStrings(n)"
   ]
  },
  {
   "cell_type": "code",
   "execution_count": 4,
   "metadata": {},
   "outputs": [
    {
     "data": {
      "text/plain": [
       "[0, 0, 0, 0, 0, 0, 0, 0, 0, 0, 0, 0, 0, 0, 0, 0, 0, 0, 0, 0, 0, 0, 0, 0, 0, 0]"
      ]
     },
     "execution_count": 4,
     "metadata": {},
     "output_type": "execute_result"
    }
   ],
   "source": [
    "s1=[0]*26\n",
    "s1"
   ]
  },
  {
   "cell_type": "code",
   "execution_count": 3,
   "metadata": {},
   "outputs": [
    {
     "name": "stdout",
     "output_type": "stream",
     "text": [
      "def\n",
      "15\n"
     ]
    }
   ],
   "source": [
    "# Char Sum\n",
    "name=input()\n",
    "def charSum(name):\n",
    "    sum=0\n",
    "    for i in name:\n",
    "        s=ord(i)-96\n",
    "        sum=sum+s\n",
    "        \n",
    "    print(sum)\n",
    "charSum(name)"
   ]
  },
  {
   "cell_type": "code",
   "execution_count": 8,
   "metadata": {},
   "outputs": [
    {
     "name": "stdout",
     "output_type": "stream",
     "text": [
      "1\n",
      "qwertyuio\n",
      "qwertyui\n",
      "1\n"
     ]
    }
   ],
   "source": [
    "# Anagram\n",
    "def anagram(a,b):\n",
    "    s1=[0]*26\n",
    "    s2=[0]*26\n",
    "    for i in range(0,len(a)):#aadc\n",
    "        s1[ord(a[i])-97]=s1[ord(a[i])-97]+1 \n",
    "    for i in range(0,len(b)):\n",
    "        s2[ord(b[i])-97]=s2[ord(b[i])-97]+1\n",
    "    c=0\n",
    "    for i in range(26):\n",
    "        c=c+abs(s1[i]-s2[i])\n",
    "    print(c)\n",
    "n=int(input())\n",
    "for i in range(0,n):\n",
    "    a=input()\n",
    "    b=input()\n",
    "    anagram(a,b)"
   ]
  },
  {
   "cell_type": "code",
   "execution_count": null,
   "metadata": {},
   "outputs": [],
   "source": []
  }
 ],
 "metadata": {
  "kernelspec": {
   "display_name": "Python 3",
   "language": "python",
   "name": "python3"
  },
  "language_info": {
   "codemirror_mode": {
    "name": "ipython",
    "version": 3
   },
   "file_extension": ".py",
   "mimetype": "text/x-python",
   "name": "python",
   "nbconvert_exporter": "python",
   "pygments_lexer": "ipython3",
   "version": "3.7.3"
  }
 },
 "nbformat": 4,
 "nbformat_minor": 2
}
