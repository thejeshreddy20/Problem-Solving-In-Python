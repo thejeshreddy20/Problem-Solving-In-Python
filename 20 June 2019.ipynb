{
 "cells": [
  {
   "cell_type": "markdown",
   "metadata": {},
   "source": [
    "### Regular Expressions\n",
    "\n",
    "- **Pattern Matching**\n",
    "\n",
    "- **Symbolic Notation of a pattern**\n",
    "\n",
    "    - Pattern: Format which repeats.\n",
    "    \n",
    "    - Pattern(RE) represents the set of all values match that pattern.\n",
    "    \n",
    "    \n",
    "- [0-9]                ---> Any Digit.\n",
    "\n",
    "- [a-z]                ---> Any Lower case alphabet.\n",
    "\n",
    "- [2468]               ---> All singlr digit multiples of 2.\n",
    "\n",
    "- [0-9]{1}             ---> Only single digit number.\n",
    "\n",
    "- [0-9]{3}             ---> Only three digit number.\n",
    "\n",
    "- [0-9]*0$             ---> All multiples of 10.\n",
    "\n",
    "- ^[1-9][0-9]*[05]$    ---> All multiples of 5.\n",
    "\n",
    "\n",
    "- ^[1-9][0-9]{9}$      ---> All 10 digits numbers.\n",
    "\n",
    "\n",
    "- [6-9][0-9]{9}       ---> Validating phone number(India)(start with 9876 followed by 9 digits).\n",
    "\n",
    "\n",
    "- ^[0-9a-z][0-9a-z_.]{4,13}[0-9][@][a-z0-9]{3,18}[.][a-z]{2,4}$  ---> Emali validation(username@domain.extension).\n",
    "\n",
    "                       \n",
    "                                 - User Name.\n",
    "                                 \n",
    "                                      - Length of username: [6,15]\n",
    "                                      \n",
    "                                      - No special Character other than _.\n",
    "                                      \n",
    "                                      - Should not begin and end with _.\n",
    "                                      \n",
    "                                      - Character set:all digits and lower case alphabet.\n",
    "                                      \n",
    "                                 - Domain.\n",
    "                                 \n",
    "                                      - Length of domain: [3,18].\n",
    "                                      \n",
    "                                      - No special characters.\n",
    "                                      \n",
    "                                      - Character set:all digits and lower case alphabet.\n",
    "                                      \n",
    "                                 - Extension.\n",
    "                                 \n",
    "                                      - Length of extension:[2,4].\n",
    "                                      \n",
    "                                      - No special Characters.\n",
    "                                      \n",
    "                                      - Character set: Lower case alphabet.\n",
    "                                 \n",
    "-"
   ]
  },
  {
   "cell_type": "code",
   "execution_count": null,
   "metadata": {},
   "outputs": [],
   "source": []
  },
  {
   "cell_type": "code",
   "execution_count": null,
   "metadata": {},
   "outputs": [],
   "source": []
  },
  {
   "cell_type": "code",
   "execution_count": null,
   "metadata": {},
   "outputs": [],
   "source": []
  },
  {
   "cell_type": "code",
   "execution_count": 2,
   "metadata": {},
   "outputs": [
    {
     "data": {
      "text/plain": [
       "True"
      ]
     },
     "execution_count": 2,
     "metadata": {},
     "output_type": "execute_result"
    }
   ],
   "source": [
    "#Function to validate a phone number\n",
    "\n",
    "import re\n",
    "\n",
    "def phoneNumberValidator(number):\n",
    "    pattern='^[6-9][0-9]{9}$' \n",
    "    #| ^[0][6-9][0-9]{9}$ | ^[+][9][1][6-9][0-9]{9}$'\n",
    "    if re.match(pattern,str(number)):\n",
    "        return True\n",
    "    return False\n",
    "phoneNumberValidator(9848038332)\n"
   ]
  },
  {
   "cell_type": "code",
   "execution_count": 3,
   "metadata": {},
   "outputs": [
    {
     "data": {
      "text/plain": [
       "True"
      ]
     },
     "execution_count": 3,
     "metadata": {},
     "output_type": "execute_result"
    }
   ],
   "source": [
    "def  emailValidator(email):\n",
    "    pattern=\"^[0-9a-z][0-9a-z_.]{4,13}[0-9a-z][@][a-z0-9]{3,18}[.][a-z]{2,4}$\"\n",
    "    if re.match(pattern,email):\n",
    "        return True\n",
    "    return False\n",
    "emailValidator(\"thejeshreddy20@gmail.com\")"
   ]
  },
  {
   "cell_type": "code",
   "execution_count": 8,
   "metadata": {},
   "outputs": [
    {
     "name": "stdout",
     "output_type": "stream",
     "text": [
      "Thejesh Already Exists\n"
     ]
    }
   ],
   "source": [
    "contacts={\"Thejesh\":[9848038332,\"thejeshreddy20@gmail.com\"],\"Theja\":[9494741185,\"thejeshreddy@gmail.com\"]}\n",
    "def addcontact(name,phone,email):\n",
    "    if name in contacts:\n",
    "        print(name,\"Already Exists\")\n",
    "    else:\n",
    "        if not phoneNumberValidator(phone):\n",
    "            print(\"Invalid Phone Number\")\n",
    "            return\n",
    "        if not emailValidator(email):\n",
    "            print(\"Invalid Email address\")\n",
    "            return\n",
    "        newcontact=[]\n",
    "        newcontact.append(phone)\n",
    "        newcontact.append(email)\n",
    "        contacts[name]=newcontact\n",
    "    return\n",
    "addcontact(\"Thejesh\",9848038332,\"thejeshreddy20@gmail.com\")\n"
   ]
  },
  {
   "cell_type": "code",
   "execution_count": 9,
   "metadata": {},
   "outputs": [
    {
     "name": "stdout",
     "output_type": "stream",
     "text": [
      "Thejesh\n",
      "phone: 9848038332\n",
      "email: thejeshreddy20@gmail.com\n"
     ]
    }
   ],
   "source": [
    "def SearchContacts(name):\n",
    "    if name in contacts:\n",
    "        print(name)\n",
    "        print(\"phone:\",contacts[name][0])\n",
    "        print(\"email:\",contacts[name][1])\n",
    "    else:\n",
    "        print(\"%s does not exist\" % name)\n",
    "    return\n",
    "\n",
    "SearchContacts(\"Thejesh\")"
   ]
  },
  {
   "cell_type": "code",
   "execution_count": 11,
   "metadata": {},
   "outputs": [
    {
     "name": "stdout",
     "output_type": "stream",
     "text": [
      "1 contacts added \n"
     ]
    }
   ],
   "source": [
    "def importContacts(newContacts):\n",
    "    contacts.update(newContacts)\n",
    "    print(len(newContacts.keys()),\"contact added \")\n",
    "    return\n",
    "newContacts={\"sirisha\":[9876546544,\"sirisha@gmail.com\"]}\n",
    "importContacts(newContacts)\n",
    "#contacts.items()\n"
   ]
  },
  {
   "cell_type": "code",
   "execution_count": 12,
   "metadata": {},
   "outputs": [
    {
     "name": "stdout",
     "output_type": "stream",
     "text": [
      "Thejesh \n",
      " Phone : 9848038332 \n",
      " Email:  thejeshreddy20@gmail.com\n",
      "Theja \n",
      " Phone : 9494741185 \n",
      " Email:  thejeshreddy@gmail.com\n",
      "sirisha \n",
      " Phone : 9876546544 \n",
      " Email:  sirisha@gmail.com\n"
     ]
    }
   ],
   "source": [
    "#Function to list all contacts\n",
    "def listAllContacts():\n",
    "    for contact, info in contacts.items():\n",
    "        print(contact,\"\\n\",\"Phone :\",info[0],\"\\n\",\"Email: \",info[1])\n",
    "    return   \n",
    "listAllContacts()"
   ]
  },
  {
   "cell_type": "markdown",
   "metadata": {},
   "source": [
    "### File Handling in Python\n",
    "\n",
    "- File-Document containing information residing \n",
    "- Types-Text,PDF,CSV etc\n",
    "- File I/O- Channelling I/O data to files\n",
    "- Default I/O channel to files for reading and writing into files.\n",
    "\n",
    "- Change I/O channel to files for reading and writing\n",
    "\n",
    "- Read a file-Input from file \n",
    "write to a file-Output to a file\n",
    "\n"
   ]
  },
  {
   "cell_type": "code",
   "execution_count": 25,
   "metadata": {},
   "outputs": [
    {
     "name": "stdout",
     "output_type": "stream",
     "text": [
      "Input:\n",
      " \n",
      " Input contains a single string.\n",
      " \n",
      " Output:\n",
      " \n",
      " Print the final point where he came out. "
     ]
    }
   ],
   "source": [
    "# Function to create read a file\n",
    "\n",
    "def readFile(filename):\n",
    "    f=open(filename,'r')\n",
    "    filedata=f.read()\n",
    "    f.close\n",
    "    return filedata\n",
    "filename='DataFiles/data.txt'\n",
    "filedata=readFile(filename)\n",
    "#for line in filedata.split('\\n'):\n",
    "#   print(line)\n",
    "def printFileDataLines(filename):\n",
    "    f=open(filename,'r')\n",
    "    for line in f:\n",
    "        print(line,end=\" \")\n",
    "    return\n",
    "printFileDataLines(filename)"
   ]
  },
  {
   "cell_type": "code",
   "execution_count": 1,
   "metadata": {},
   "outputs": [],
   "source": [
    "# Function to write data into a file\n",
    "\n",
    "def writeIntoFile(filename,filedata):\n",
    "    with open (filename,'w') as f:\n",
    "        f.write(filedata)\n",
    "    return\n",
    "filename='DataFiles/data.txt'\n",
    "\n",
    "writeIntoFile(filename,\"Thejesh\")"
   ]
  },
  {
   "cell_type": "code",
   "execution_count": 2,
   "metadata": {},
   "outputs": [],
   "source": [
    "#Function to append Data to a file\n",
    "def appendDataToFile(filename,filedata):\n",
    "    with open(filename,'a') as f:\n",
    "        f.write(filedata)\n",
    "    return\n",
    "filedata=\"\\n 9848038332 \\n Chittoor\"\n",
    "appendDataToFile(filename,filedata)"
   ]
  },
  {
   "cell_type": "code",
   "execution_count": null,
   "metadata": {},
   "outputs": [],
   "source": []
  }
 ],
 "metadata": {
  "kernelspec": {
   "display_name": "Python 3",
   "language": "python",
   "name": "python3"
  },
  "language_info": {
   "codemirror_mode": {
    "name": "ipython",
    "version": 3
   },
   "file_extension": ".py",
   "mimetype": "text/x-python",
   "name": "python",
   "nbconvert_exporter": "python",
   "pygments_lexer": "ipython3",
   "version": "3.7.3"
  }
 },
 "nbformat": 4,
 "nbformat_minor": 2
}
