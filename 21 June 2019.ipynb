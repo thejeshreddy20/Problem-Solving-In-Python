{
 "cells": [
  {
   "cell_type": "code",
   "execution_count": 3,
   "metadata": {},
   "outputs": [
    {
     "name": "stdout",
     "output_type": "stream",
     "text": [
      "name2 already exists\n"
     ]
    }
   ],
   "source": [
    "#Function to add contact to contacts text file\n",
    "\n",
    "\n",
    "from Packages.validators import phoneNumberValidator as pnv,emailValidator as ev\n",
    "def addContact(name,phone,email): #store data as name,phone,email in the contacts\n",
    "    filename='DataFiles/contacts.txt'\n",
    "    if not checkContactExists(name):\n",
    "        if pnv(phone) and ev(email):\n",
    "            with open(filename,'a') as f:\n",
    "                line=name+','+str(phone)+','+email+ \"\\n\"\n",
    "                f.write(line)\n",
    "            print(name,'added to contacts')\n",
    "        else:   \n",
    "            print(\"Invalid phone number or email\")\n",
    "            return\n",
    "    else:\n",
    "        print(name,\"already exists\")\n",
    "        \n",
    "    return\n",
    "#Function to check if contact already exists\n",
    "import re\n",
    "def checkContactExists(name):\n",
    "    filename='DataFiles/contacts.txt'\n",
    "    with open(filename,'r') as f:\n",
    "        filedata=f.read()\n",
    "        pattern=name+','\n",
    "    return re.search(pattern,filedata)\n",
    "#if checkContactExists(\"name1\"):\n",
    "    #print(True)\n",
    "#else:\n",
    "    #print(False) '''\n",
    "addContact(\"name2\",9848038332,'thejeshreddy@gmail.com')"
   ]
  },
  {
   "cell_type": "code",
   "execution_count": null,
   "metadata": {},
   "outputs": [],
   "source": []
  },
  {
   "cell_type": "code",
   "execution_count": 14,
   "metadata": {},
   "outputs": [
    {
     "name": "stdout",
     "output_type": "stream",
     "text": [
      "Name Not Exists\n"
     ]
    }
   ],
   "source": [
    "from Packages.validators import phoneNumberValidator as pnv,emailValidator as ev\n",
    "def SearchContact(name): \n",
    "    filename='DataFiles/contacts.txt'\n",
    "    if not checkContact(name):\n",
    "        print('name')\n",
    "    else:\n",
    "        print(\"Name Not Exists\")\n",
    "        return\n",
    "#Function to check if contact already exists\n",
    "import re\n",
    "def checkContact(name):\n",
    "    filename='DataFiles/contacts.txt'\n",
    "    with open(filename,'r') as f:\n",
    "        filedata=f.read()\n",
    "        pattern=name+','\n",
    "    return re.search(pattern,filedata)\n",
    "#if checkContactExists(\"name1\"):\n",
    "    #print(True)\n",
    "#else:\n",
    "    #print(False) '''\n",
    "SearchContact(\"name2\")"
   ]
  },
  {
   "cell_type": "code",
   "execution_count": null,
   "metadata": {},
   "outputs": [],
   "source": []
  }
 ],
 "metadata": {
  "kernelspec": {
   "display_name": "Python 3",
   "language": "python",
   "name": "python3"
  },
  "language_info": {
   "codemirror_mode": {
    "name": "ipython",
    "version": 3
   },
   "file_extension": ".py",
   "mimetype": "text/x-python",
   "name": "python",
   "nbconvert_exporter": "python",
   "pygments_lexer": "ipython3",
   "version": "3.7.3"
  }
 },
 "nbformat": 4,
 "nbformat_minor": 2
}
