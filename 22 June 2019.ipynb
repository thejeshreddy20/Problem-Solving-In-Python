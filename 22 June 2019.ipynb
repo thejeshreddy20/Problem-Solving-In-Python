{
 "cells": [
  {
   "cell_type": "code",
   "execution_count": 1,
   "metadata": {},
   "outputs": [],
   "source": [
    "fh=open('book.txt','w')\n",
    "data=\"Hi everyone\"\n",
    "fh.write(data)\n",
    "fh.close()"
   ]
  },
  {
   "cell_type": "code",
   "execution_count": 2,
   "metadata": {},
   "outputs": [
    {
     "name": "stdout",
     "output_type": "stream",
     "text": [
      "Hi everyone\n"
     ]
    }
   ],
   "source": [
    "fh=open('book.txt','r')\n",
    "print(fh.read())\n",
    "fh.close() "
   ]
  },
  {
   "cell_type": "markdown",
   "metadata": {},
   "source": [
    "### Day Objectives\n",
    "- File Handling\n",
    "     - Basic File Data Processing\n",
    "           -Accessing and Modifying File Data\n",
    "    - Character Count\n",
    "    - Line Count\n",
    "    - File Size\n",
    "    - Word Count\n",
    "    - Unique Word Count"
   ]
  },
  {
   "cell_type": "code",
   "execution_count": 3,
   "metadata": {},
   "outputs": [
    {
     "name": "stdout",
     "output_type": "stream",
     "text": [
      "<class '_io.TextIOWrapper'>\n"
     ]
    }
   ],
   "source": [
    "# Read a File-File should exist\n",
    "# Write to file-Existing(append) or New File (write)\n",
    "\n",
    "def readFile(Filepath):\n",
    "    with open(filepath,'r') as f:\n",
    "        print(type(f))\n",
    "    return\n",
    "filepath='DataFiles/data.txt'\n",
    "readFile(filepath)"
   ]
  },
  {
   "cell_type": "code",
   "execution_count": 4,
   "metadata": {},
   "outputs": [
    {
     "name": "stdout",
     "output_type": "stream",
     "text": [
      "Thejesh\n",
      "9848038332\n",
      " Chittoor  \n",
      " Thejesh\n",
      " Chittoor\n"
     ]
    }
   ],
   "source": [
    "def readFile(filepath):\n",
    "    with open(filepath,'r') as f:\n",
    "        filedata=f.read()\n",
    "    return filedata\n",
    "filepath='DataFiles/data.txt'\n",
    "print(readFile(filepath))"
   ]
  },
  {
   "cell_type": "code",
   "execution_count": 5,
   "metadata": {},
   "outputs": [
    {
     "name": "stdout",
     "output_type": "stream",
     "text": [
      "39\n"
     ]
    }
   ],
   "source": [
    "#Character Count\n",
    "def countcharacter(filepath):\n",
    "    filepath='DataFiles/data.txt'\n",
    "    count=0 \n",
    "    with open(filepath,'r') as f:\n",
    "        fh=f.read()\n",
    "        for i in fh:\n",
    "            if i.isdigit()!=True:\n",
    "                count=count+1\n",
    "        print(count)\n",
    "countcharacter(filepath)"
   ]
  },
  {
   "cell_type": "code",
   "execution_count": 6,
   "metadata": {},
   "outputs": [
    {
     "name": "stdout",
     "output_type": "stream",
     "text": [
      "5\n"
     ]
    }
   ],
   "source": [
    "#Line Count\n",
    "def linecount(filepath):\n",
    "    filepath='DataFiles/data.txt'\n",
    "    count=0 \n",
    "    with open(filepath,'r') as f:\n",
    "        for i in f:\n",
    "                count=count+1\n",
    "        print(count)\n",
    "linecount(filepath)"
   ]
  },
  {
   "cell_type": "code",
   "execution_count": 7,
   "metadata": {},
   "outputs": [
    {
     "name": "stdout",
     "output_type": "stream",
     "text": [
      "5\n"
     ]
    }
   ],
   "source": [
    "#Word Count\n",
    "def wordcount(filepath):\n",
    "    filepath='DataFiles/data.txt'\n",
    "    with open(filepath,'r') as f:\n",
    "        filedata=f.read()\n",
    "        print(len(filedata.split()))\n",
    "wordcount(filepath)"
   ]
  },
  {
   "cell_type": "code",
   "execution_count": 8,
   "metadata": {},
   "outputs": [
    {
     "name": "stdout",
     "output_type": "stream",
     "text": [
      "49\n"
     ]
    }
   ],
   "source": [
    "#File Size\n",
    "import os\n",
    "print(os.path.getsize(\"DataFiles/data.txt\")) "
   ]
  },
  {
   "cell_type": "code",
   "execution_count": 9,
   "metadata": {},
   "outputs": [
    {
     "data": {
      "text/plain": [
       "[1, 2, 3]"
      ]
     },
     "execution_count": 9,
     "metadata": {},
     "output_type": "execute_result"
    }
   ],
   "source": [
    "\n",
    "def uniqueData(li):\n",
    "    unique=[]\n",
    "    for element in li:\n",
    "        if element not in unique:\n",
    "            unique.append(element)\n",
    "    return unique\n",
    "li=[1,2,3,3,2,1]\n",
    "uniqueData(li)"
   ]
  },
  {
   "cell_type": "code",
   "execution_count": 10,
   "metadata": {},
   "outputs": [
    {
     "name": "stdout",
     "output_type": "stream",
     "text": [
      "['Thejesh', '9848038332', 'Chittoor']\n",
      "3\n"
     ]
    }
   ],
   "source": [
    "#Unique Code\n",
    "def uniquecount(filepath):\n",
    "    unique=[]\n",
    "    #filepath='DataFiles/data.txt'\n",
    "    with open(filepath,'r') as f:\n",
    "        fh=f.read().split()\n",
    "        for i in fh:\n",
    "            if i not in unique:\n",
    "                unique.append(i)\n",
    "        print(unique)\n",
    "        print(len(unique))\n",
    "        \n",
    "        \n",
    "       \n",
    "        return\n",
    "uniquecount(\"DataFiles/data.txt\")\n",
    "\n",
    "    \n",
    "    "
   ]
  },
  {
   "cell_type": "code",
   "execution_count": 17,
   "metadata": {},
   "outputs": [
    {
     "name": "stdout",
     "output_type": "stream",
     "text": [
      "Thejesh : 2\n",
      "9848038332 : 1\n",
      "Chittoor : 2\n"
     ]
    }
   ],
   "source": [
    "#Function to print frequency count of a text file\n",
    "def uniquewordcount(filepath):\n",
    "    c=0\n",
    "    unique=[]\n",
    "    with open(filepath,'r') as f:\n",
    "        filedata=f.read().split()\n",
    "        for i in filedata:\n",
    "            k=i\n",
    "            if k not in unique:\n",
    "                unique.append(k)\n",
    "                for j in filedata:\n",
    "                    if k==j:\n",
    "                        c=c+1\n",
    "                print(k,':',c)\n",
    "                c=0\n",
    "    return\n",
    "uniquewordcount(filepath)\n",
    "\n",
    "    "
   ]
  },
  {
   "cell_type": "code",
   "execution_count": null,
   "metadata": {},
   "outputs": [],
   "source": []
  }
 ],
 "metadata": {
  "kernelspec": {
   "display_name": "Python 3",
   "language": "python",
   "name": "python3"
  },
  "language_info": {
   "codemirror_mode": {
    "name": "ipython",
    "version": 3
   },
   "file_extension": ".py",
   "mimetype": "text/x-python",
   "name": "python",
   "nbconvert_exporter": "python",
   "pygments_lexer": "ipython3",
   "version": "3.7.3"
  }
 },
 "nbformat": 4,
 "nbformat_minor": 2
}
