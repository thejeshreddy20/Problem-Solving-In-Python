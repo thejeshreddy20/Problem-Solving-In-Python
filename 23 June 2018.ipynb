{
 "cells": [
  {
   "cell_type": "code",
   "execution_count": 1,
   "metadata": {},
   "outputs": [
    {
     "name": "stdout",
     "output_type": "stream",
     "text": [
      "['Thejesh', '9848038332', 'Chittoor']\n",
      "3\n"
     ]
    }
   ],
   "source": [
    "#Unique Code\n",
    "def uniquecount(filepath):\n",
    "    unique=[]\n",
    "    #filepath='DataFiles/data.txt'\n",
    "    with open(filepath,'r') as f:\n",
    "        fh=f.read().split()\n",
    "        for i in fh:\n",
    "            if i not in unique:\n",
    "                unique.append(i)\n",
    "        print(unique)\n",
    "        print(len(unique))\n",
    "        \n",
    "        \n",
    "       \n",
    "        return\n",
    "uniquecount(\"DataFiles/data.txt\")\n",
    "\n",
    "    \n",
    "    "
   ]
  },
  {
   "cell_type": "code",
   "execution_count": 3,
   "metadata": {},
   "outputs": [
    {
     "name": "stdout",
     "output_type": "stream",
     "text": [
      "Thejesh : 2\n",
      "9848038332 : 1\n",
      "Chittoor : 2\n"
     ]
    }
   ],
   "source": [
    "#Function to print frequency count of a text file\n",
    "def uniquewordcount(filepath):\n",
    "    c=0\n",
    "    unique=[]\n",
    "    with open(filepath,'r') as f:\n",
    "        filedata=f.read().split()\n",
    "        for i in filedata:\n",
    "            k=i\n",
    "            if k not in unique:\n",
    "                unique.append(k)\n",
    "                for j in filedata:\n",
    "                    if k==j:\n",
    "                        c=c+1\n",
    "                print(k,':',c)\n",
    "                c=0\n",
    "    return\n",
    "uniquewordcount(\"DataFiles/data.txt\")\n",
    "\n",
    "    \n",
    "    "
   ]
  },
  {
   "cell_type": "code",
   "execution_count": null,
   "metadata": {},
   "outputs": [],
   "source": []
  }
 ],
 "metadata": {
  "kernelspec": {
   "display_name": "Python 3",
   "language": "python",
   "name": "python3"
  },
  "language_info": {
   "codemirror_mode": {
    "name": "ipython",
    "version": 3
   },
   "file_extension": ".py",
   "mimetype": "text/x-python",
   "name": "python",
   "nbconvert_exporter": "python",
   "pygments_lexer": "ipython3",
   "version": "3.7.3"
  }
 },
 "nbformat": 4,
 "nbformat_minor": 2
}
