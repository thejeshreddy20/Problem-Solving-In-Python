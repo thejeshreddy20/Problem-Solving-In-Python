{
 "cells": [
  {
   "cell_type": "code",
   "execution_count": null,
   "metadata": {},
   "outputs": [],
   "source": []
  },
  {
   "cell_type": "code",
   "execution_count": null,
   "metadata": {
    "scrolled": true
   },
   "outputs": [],
   "source": [
    "import re\n",
    "\n",
    "def wordcountfile(filepath):\n",
    "    pattern='[\\n]'\n",
    "    filedata=readFile(filepath)\n",
    "    count=len(re.split(pattern,filedata))\n",
    "    return count\n",
    "\n",
    "\n",
    "def wordsfromfile(filepath):\n",
    "    pattern='[\\n]'\n",
    "    for word in uniquewords:\n",
    "        count=allwords.count(word)\n",
    "        print(word,':',count)\n",
    "    return wordsfromfile\n",
    "\n",
    "\n",
    "\n",
    "def freqdistributionofwords(filepath):\n",
    "    allwords=wordsfromfile(filepath)\n",
    "    wordfrequency={}\n",
    "    for word in allwords:\n",
    "        if word not in wordFrequency.keys():\n",
    "            wordfrequency[word]=1\n",
    "        else:\n",
    "             wordfrequency[word]+=1\n",
    "                \n",
    "    return  wordfrequency\n",
    "            \n",
    "            \n",
    "            \n",
    "            \n",
    "freqdistributionofwords(\"DataFiles/data.txt\")          "
   ]
  },
  {
   "cell_type": "code",
   "execution_count": null,
   "metadata": {},
   "outputs": [],
   "source": [
    "# Contacts APplication\n",
    "    # Add,Search,List,Modify,Delete Contact.\n",
    "#Find and Replace Application.\n",
    "      # Count the total number of occurances of a word.\n",
    "      # If a word is existing.\n",
    "      # Replace all occurances of a word with a another word.\n",
    "    \n",
    "# Marks Analysis Application\n",
    "     #Generate marks file for n student\n",
    "     #Input :Marks text file-each line contains marks of one student\n",
    "     #Generates a report with the following information\n",
    "           # Class Average\n",
    "           # % of students passed\n",
    "           # % of students failed\n",
    "           # % of students with distinction\n",
    "           # Highest Mark Frequency\n",
    "           # Lowest Mark Frequency"
   ]
  },
  {
   "cell_type": "code",
   "execution_count": null,
   "metadata": {},
   "outputs": [],
   "source": []
  },
  {
   "cell_type": "code",
   "execution_count": null,
   "metadata": {},
   "outputs": [],
   "source": [
    "#Function to generate marks data for n students\n",
    "\n",
    "from random import randint\n",
    "def generateMarks(n,lb,ub):\n",
    "    with open('DataFiles/marks.text','w') as f:\n",
    "        for i in range(0,n):\n",
    "            r=randint(lb,ub)\n",
    "            f.write(str(r)+'\\n')\n",
    "    return\n",
    "generateMarks(100,25,100)        "
   ]
  },
  {
   "cell_type": "code",
   "execution_count": null,
   "metadata": {},
   "outputs": [],
   "source": []
  },
  {
   "cell_type": "code",
   "execution_count": null,
   "metadata": {},
   "outputs": [],
   "source": []
  },
  {
   "cell_type": "code",
   "execution_count": null,
   "metadata": {},
   "outputs": [],
   "source": []
  },
  {
   "cell_type": "code",
   "execution_count": null,
   "metadata": {},
   "outputs": [],
   "source": []
  },
  {
   "cell_type": "code",
   "execution_count": null,
   "metadata": {},
   "outputs": [],
   "source": []
  },
  {
   "cell_type": "code",
   "execution_count": null,
   "metadata": {},
   "outputs": [],
   "source": []
  },
  {
   "cell_type": "code",
   "execution_count": null,
   "metadata": {},
   "outputs": [],
   "source": []
  },
  {
   "cell_type": "code",
   "execution_count": null,
   "metadata": {},
   "outputs": [],
   "source": []
  },
  {
   "cell_type": "code",
   "execution_count": null,
   "metadata": {},
   "outputs": [],
   "source": []
  },
  {
   "cell_type": "code",
   "execution_count": null,
   "metadata": {},
   "outputs": [],
   "source": []
  },
  {
   "cell_type": "code",
   "execution_count": null,
   "metadata": {},
   "outputs": [],
   "source": []
  }
 ],
 "metadata": {
  "kernelspec": {
   "display_name": "Python 3",
   "language": "python",
   "name": "python3"
  },
  "language_info": {
   "codemirror_mode": {
    "name": "ipython",
    "version": 3
   },
   "file_extension": ".py",
   "mimetype": "text/x-python",
   "name": "python",
   "nbconvert_exporter": "python",
   "pygments_lexer": "ipython3",
   "version": "3.7.3"
  }
 },
 "nbformat": 4,
 "nbformat_minor": 2
}
