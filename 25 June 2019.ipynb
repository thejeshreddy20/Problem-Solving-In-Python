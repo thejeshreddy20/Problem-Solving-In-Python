{
 "cells": [
  {
   "cell_type": "code",
   "execution_count": 4,
   "metadata": {},
   "outputs": [
    {
     "name": "stdout",
     "output_type": "stream",
     "text": [
      "0 1 1 1 1 1 1 0 0 0 "
     ]
    }
   ],
   "source": [
    "# Digit Frquency Practise Test Problem\n",
    "\n",
    "def uniqueData(allnumbers):\n",
    "    unique=[]\n",
    "    for n in allnumbers:\n",
    "        if n not in unique:\n",
    "            unique.append(n)\n",
    "    return unique\n",
    "\n",
    "def digitfrequency(s):\n",
    "    allnumbers=[]\n",
    "    for i in s:\n",
    "        if i.isdigit():\n",
    "            allnumbers.append(i)\n",
    "    unique=uniqueData(allnumbers)\n",
    "    for i in range(0,10):\n",
    "        if str(i) not in unique:\n",
    "            print(0,end=' ')\n",
    "        else:\n",
    "            count=allnumbers.count(str(i))\n",
    "            print(count,end=' ')\n",
    "digitfrequency('abc123def456')            "
   ]
  },
  {
   "cell_type": "code",
   "execution_count": 5,
   "metadata": {},
   "outputs": [],
   "source": [
    "def digitfrequency2(s):\n",
    "    for i in range(0,10):\n",
    "        count=s.count(str(i))"
   ]
  },
  {
   "cell_type": "code",
   "execution_count": 12,
   "metadata": {},
   "outputs": [],
   "source": [
    "#Function to generate marks data for n students\n",
    "\n",
    "from random import randint\n",
    "def generateMarks(n,lb,ub):\n",
    "    with open('DataFiles/marks.text','w') as f:\n",
    "        for i in range(0,n):\n",
    "            r=randint(lb,ub)\n",
    "            f.write(str(r)+'\\n')\n",
    "    return\n",
    "generateMarks(100,25,100)        "
   ]
  },
  {
   "cell_type": "code",
   "execution_count": 13,
   "metadata": {},
   "outputs": [
    {
     "data": {
      "text/plain": [
       "61.58"
      ]
     },
     "execution_count": 13,
     "metadata": {},
     "output_type": "execute_result"
    }
   ],
   "source": [
    "\n",
    "def classaverage():\n",
    "    with open('DataFiles/marks.text','r') as f:\n",
    "        fh=f.read()\n",
    "        sum=0\n",
    "        n=100\n",
    "        for i in fh.split():\n",
    "            sum=sum+int(i)\n",
    "           \n",
    "        return sum/n\n",
    "classaverage()        "
   ]
  },
  {
   "cell_type": "code",
   "execution_count": 14,
   "metadata": {},
   "outputs": [
    {
     "data": {
      "text/plain": [
       "False"
      ]
     },
     "execution_count": 14,
     "metadata": {},
     "output_type": "execute_result"
    }
   ],
   "source": [
    "#Function to check if two string \n",
    "def anagrams(s1,s2):\n",
    "    if len(s1)!=len(s2):\n",
    "        return False\n",
    "    if sorted(s1)==sorted(s2):\n",
    "        return True\n",
    "    return False\n",
    "anagrams('abc','bcc')    "
   ]
  },
  {
   "cell_type": "code",
   "execution_count": 21,
   "metadata": {},
   "outputs": [
    {
     "data": {
      "text/plain": [
       "3"
      ]
     },
     "execution_count": 21,
     "metadata": {},
     "output_type": "execute_result"
    }
   ],
   "source": [
    "def chardeletionsanagrams(s1,s2):\n",
    "    uncommon=[]\n",
    "    for i in s1:\n",
    "        if i not in s2:\n",
    "            uncommon.append(i)\n",
    "    for i in s2:\n",
    "        if i not in s1:\n",
    "            uncommon.append(i)\n",
    "    count = len(uncommon)\n",
    "    freqs1={}\n",
    "    freqs2={}\n",
    "    uniqs1=[]\n",
    "    uniqs2=[]\n",
    "    for i in s1:\n",
    "        if i not in uncommon and i not in uniqs1:\n",
    "            \n",
    "            freqs1[i]=s1.count(i)\n",
    "            uniqs1.append(i)\n",
    "    for i in s2:\n",
    "        if i not in uncommon and i not in uniqs2:\n",
    "            \n",
    "            freqs2[i]=s2.count(i)\n",
    "            uniqs2.append(i)       \n",
    "    for key in freqs1.keys():\n",
    "        count+=abs(freqs1[key]-freqs2[key])\n",
    "    return count\n",
    "chardeletionsanagrams('acb','bd')\n",
    "    "
   ]
  },
  {
   "cell_type": "markdown",
   "metadata": {},
   "source": [
    "### Practise Test Problems"
   ]
  },
  {
   "cell_type": "code",
   "execution_count": 22,
   "metadata": {},
   "outputs": [
    {
     "data": {
      "text/plain": [
       "5"
      ]
     },
     "execution_count": 22,
     "metadata": {},
     "output_type": "execute_result"
    }
   ],
   "source": [
    "def averageRange(lb,ub):\n",
    "    sum=0\n",
    "    for i in range(lb,ub+1):\n",
    "        sum+=i\n",
    "    count=ub-lb+1\n",
    "    return sum//count\n",
    "averageRange(1,10)"
   ]
  },
  {
   "cell_type": "code",
   "execution_count": 39,
   "metadata": {},
   "outputs": [
    {
     "data": {
      "text/plain": [
       "'a'"
      ]
     },
     "execution_count": 39,
     "metadata": {},
     "output_type": "execute_result"
    }
   ],
   "source": [
    "def klargestFrequency(s,k):\n",
    "    #unique=[]\n",
    "    freq={}\n",
    "    for i in s:\n",
    "        if i not in freq.keys():\n",
    "            freq[i]=s.count(i)\n",
    "    \n",
    "    values=sorted(freq.values(),reverse=True)\n",
    "    uniquevalues=list(set(values))\n",
    "    uniquevalues=sorted(uniquevalues,reverse=True)\n",
    "    if k <= len(uniquevalues):\n",
    "        kvalue=uniquevalues[k-1]\n",
    "    else:\n",
    "        return -1 \n",
    "    li=[]\n",
    "    for item in freq.items():\n",
    "        if item[1]==kvalue:\n",
    "            li.append(item[0])\n",
    "    return min(li)\n",
    "klargestFrequency('aabcdcc',2)"
   ]
  },
  {
   "cell_type": "code",
   "execution_count": null,
   "metadata": {},
   "outputs": [],
   "source": []
  },
  {
   "cell_type": "code",
   "execution_count": null,
   "metadata": {},
   "outputs": [],
   "source": []
  }
 ],
 "metadata": {
  "kernelspec": {
   "display_name": "Python 3",
   "language": "python",
   "name": "python3"
  },
  "language_info": {
   "codemirror_mode": {
    "name": "ipython",
    "version": 3
   },
   "file_extension": ".py",
   "mimetype": "text/x-python",
   "name": "python",
   "nbconvert_exporter": "python",
   "pygments_lexer": "ipython3",
   "version": "3.7.3"
  }
 },
 "nbformat": 4,
 "nbformat_minor": 2
}
