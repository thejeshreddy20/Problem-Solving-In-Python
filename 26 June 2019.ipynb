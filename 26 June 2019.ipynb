{
 "cells": [
  {
   "cell_type": "code",
   "execution_count": 5,
   "metadata": {},
   "outputs": [
    {
     "name": "stdout",
     "output_type": "stream",
     "text": [
      "Distention of  0.42\n"
     ]
    }
   ],
   "source": [
    "def DistPercentage(filepath):\n",
    "    with open(filepath,\"r\") as data:\n",
    "        s=data.read()\n",
    "        count=0\n",
    "        n=10000\n",
    "        for i in s.split():\n",
    "            if int(i)>=70:\n",
    "                count+=1\n",
    "        print (\"Dist of \",(count/n)*100)\n",
    "filepath=\"DataFiles/marks.txt\"\n",
    "DistentionPercentage(filepath)"
   ]
  },
  {
   "cell_type": "code",
   "execution_count": 6,
   "metadata": {},
   "outputs": [
    {
     "name": "stdout",
     "output_type": "stream",
     "text": [
      "Highest Mark Frequency:  100 2\n",
      "Lowest Mark Frequency:  25 1\n"
     ]
    }
   ],
   "source": [
    "# Function to print highest N lowest frequency\n",
    "\n",
    "def highestNLowestFrequency(filepath):\n",
    "    marks = [] # empty list\n",
    "    with open(filepath,'r') as data:\n",
    "        for student in data:\n",
    "            #student = int(student)\n",
    "            marks.append(int(student))\n",
    "    print(\"Highest Mark Frequency: \",max(marks),marks.count(max(marks)))\n",
    "    print(\"Lowest Mark Frequency: \",min(marks),marks.count(min(marks)))\n",
    "\n",
    "filepath = \"DataFiles/marks.txt\"  \n",
    "\n",
    "highestNLowestFrequency(filepath)"
   ]
  },
  {
   "cell_type": "code",
   "execution_count": null,
   "metadata": {},
   "outputs": [],
   "source": []
  },
  {
   "cell_type": "code",
   "execution_count": null,
   "metadata": {},
   "outputs": [],
   "source": []
  }
 ],
 "metadata": {
  "kernelspec": {
   "display_name": "Python 3",
   "language": "python",
   "name": "python3"
  },
  "language_info": {
   "codemirror_mode": {
    "name": "ipython",
    "version": 3
   },
   "file_extension": ".py",
   "mimetype": "text/x-python",
   "name": "python",
   "nbconvert_exporter": "python",
   "pygments_lexer": "ipython3",
   "version": "3.7.3"
  }
 },
 "nbformat": 4,
 "nbformat_minor": 2
}
